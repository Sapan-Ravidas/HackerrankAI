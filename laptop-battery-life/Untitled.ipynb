{
 "cells": [
  {
   "cell_type": "code",
   "execution_count": 1,
   "id": "28132150",
   "metadata": {},
   "outputs": [],
   "source": [
    "from matplotlib import pyplot as plt\n",
    "import pylab"
   ]
  },
  {
   "cell_type": "code",
   "execution_count": 2,
   "id": "0c136e07",
   "metadata": {
    "scrolled": true
   },
   "outputs": [
    {
     "data": {
      "text/plain": [
       "array([[ 2.81,  5.62],\n",
       "       [ 7.14,  8.  ],\n",
       "       [ 2.72,  5.44],\n",
       "       [ 3.87,  7.74],\n",
       "       [ 1.9 ,  3.8 ],\n",
       "       [ 7.82,  8.  ],\n",
       "       [ 7.02,  8.  ],\n",
       "       [ 5.5 ,  8.  ],\n",
       "       [ 9.15,  8.  ],\n",
       "       [ 4.87,  8.  ],\n",
       "       [ 8.08,  8.  ],\n",
       "       [ 5.58,  8.  ],\n",
       "       [ 9.13,  8.  ],\n",
       "       [ 0.14,  0.28],\n",
       "       [ 2.  ,  4.  ],\n",
       "       [ 5.47,  8.  ],\n",
       "       [ 0.8 ,  1.6 ],\n",
       "       [ 4.37,  8.  ],\n",
       "       [ 5.31,  8.  ],\n",
       "       [ 0.  ,  0.  ],\n",
       "       [ 1.78,  3.56],\n",
       "       [ 3.45,  6.9 ],\n",
       "       [ 6.13,  8.  ],\n",
       "       [ 3.53,  7.06],\n",
       "       [ 4.61,  8.  ],\n",
       "       [ 1.76,  3.52],\n",
       "       [ 6.39,  8.  ],\n",
       "       [ 0.02,  0.04],\n",
       "       [ 9.69,  8.  ],\n",
       "       [ 5.33,  8.  ],\n",
       "       [ 6.37,  8.  ],\n",
       "       [ 5.55,  8.  ],\n",
       "       [ 7.8 ,  8.  ],\n",
       "       [ 2.06,  4.12],\n",
       "       [ 7.79,  8.  ],\n",
       "       [ 2.24,  4.48],\n",
       "       [ 9.71,  8.  ],\n",
       "       [ 1.11,  2.22],\n",
       "       [ 8.38,  8.  ],\n",
       "       [ 2.33,  4.66],\n",
       "       [ 1.83,  3.66],\n",
       "       [ 5.94,  8.  ],\n",
       "       [ 9.2 ,  8.  ],\n",
       "       [ 1.14,  2.28],\n",
       "       [ 4.15,  8.  ],\n",
       "       [ 8.43,  8.  ],\n",
       "       [ 5.68,  8.  ],\n",
       "       [ 8.21,  8.  ],\n",
       "       [ 1.75,  3.5 ],\n",
       "       [ 2.16,  4.32],\n",
       "       [ 4.93,  8.  ],\n",
       "       [ 5.75,  8.  ],\n",
       "       [ 1.26,  2.52],\n",
       "       [ 3.97,  7.94],\n",
       "       [ 4.39,  8.  ],\n",
       "       [ 7.53,  8.  ],\n",
       "       [ 1.98,  3.96],\n",
       "       [ 1.66,  3.32],\n",
       "       [ 2.04,  4.08],\n",
       "       [11.72,  8.  ],\n",
       "       [ 4.64,  8.  ],\n",
       "       [ 4.71,  8.  ],\n",
       "       [ 3.77,  7.54],\n",
       "       [ 9.33,  8.  ],\n",
       "       [ 1.83,  3.66],\n",
       "       [ 2.15,  4.3 ],\n",
       "       [ 1.58,  3.16],\n",
       "       [ 9.29,  8.  ],\n",
       "       [ 1.27,  2.54],\n",
       "       [ 8.49,  8.  ],\n",
       "       [ 5.39,  8.  ],\n",
       "       [ 3.47,  6.94],\n",
       "       [ 6.48,  8.  ],\n",
       "       [ 4.11,  8.  ],\n",
       "       [ 1.85,  3.7 ],\n",
       "       [ 8.79,  8.  ],\n",
       "       [ 0.13,  0.26],\n",
       "       [ 1.44,  2.88],\n",
       "       [ 5.96,  8.  ],\n",
       "       [ 3.42,  6.84],\n",
       "       [ 1.89,  3.78],\n",
       "       [ 1.98,  3.96],\n",
       "       [ 5.26,  8.  ],\n",
       "       [ 0.39,  0.78],\n",
       "       [ 6.05,  8.  ],\n",
       "       [ 1.99,  3.98],\n",
       "       [ 1.58,  3.16],\n",
       "       [ 3.99,  7.98],\n",
       "       [ 4.35,  8.  ],\n",
       "       [ 6.71,  8.  ],\n",
       "       [ 2.58,  5.16],\n",
       "       [ 7.37,  8.  ],\n",
       "       [ 5.77,  8.  ],\n",
       "       [ 3.97,  7.94],\n",
       "       [ 3.65,  7.3 ],\n",
       "       [ 4.38,  8.  ],\n",
       "       [ 8.06,  8.  ],\n",
       "       [ 8.05,  8.  ],\n",
       "       [ 1.1 ,  2.2 ],\n",
       "       [ 6.65,  8.  ]])"
      ]
     },
     "execution_count": 2,
     "metadata": {},
     "output_type": "execute_result"
    }
   ],
   "source": [
    "data = pylab.loadtxt(\"trainingdata.txt\", delimiter =\",\")\n",
    "data"
   ]
  },
  {
   "cell_type": "code",
   "execution_count": 3,
   "id": "e41cbbd3",
   "metadata": {},
   "outputs": [
    {
     "data": {
      "image/png": "[encoded data removed]",
      "text/plain": [
       "<Figure size 432x288 with 1 Axes>"
      ]
     },
     "metadata": {
      "needs_background": "light"
     },
     "output_type": "display_data"
    }
   ],
   "source": [
    "plt.scatter(x = data[:, 0], y = data[:, 1], color = 'red')\n",
    "plt.show()"
   ]
  },
  {
   "cell_type": "code",
   "execution_count": 4,
   "id": "50948fef",
   "metadata": {
    "scrolled": true
   },
   "outputs": [
    {
     "name": "stdout",
     "output_type": "stream",
     "text": [
      "[2.81, 7.14, 2.72, 3.87, 1.9, 7.82, 7.02, 5.5, 9.15, 4.87, 8.08, 5.58, 9.13, 0.14, 2.0, 5.47, 0.8, 4.37, 5.31, 0.0, 1.78, 3.45, 6.13, 3.53, 4.61, 1.76, 6.39, 0.02, 9.69, 5.33, 6.37, 5.55, 7.8, 2.06, 7.79, 2.24, 9.71, 1.11, 8.38, 2.33, 1.83, 5.94, 9.2, 1.14, 4.15, 8.43, 5.68, 8.21, 1.75, 2.16, 4.93, 5.75, 1.26, 3.97, 4.39, 7.53, 1.98, 1.66, 2.04, 11.72, 4.64, 4.71, 3.77, 9.33, 1.83, 2.15, 1.58, 9.29, 1.27, 8.49, 5.39, 3.47, 6.48, 4.11, 1.85, 8.79, 0.13, 1.44, 5.96, 3.42, 1.89, 1.98, 5.26, 0.39, 6.05, 1.99, 1.58, 3.99, 4.35, 6.71, 2.58, 7.37, 5.77, 3.97, 3.65, 4.38, 8.06, 8.05, 1.1, 6.65]\n",
      "[5.62, 8.0, 5.44, 7.74, 3.8, 8.0, 8.0, 8.0, 8.0, 8.0, 8.0, 8.0, 8.0, 0.28, 4.0, 8.0, 1.6, 8.0, 8.0, 0.0, 3.56, 6.9, 8.0, 7.06, 8.0, 3.52, 8.0, 0.04, 8.0, 8.0, 8.0, 8.0, 8.0, 4.12, 8.0, 4.48, 8.0, 2.22, 8.0, 4.66, 3.66, 8.0, 8.0, 2.28, 8.0, 8.0, 8.0, 8.0, 3.5, 4.32, 8.0, 8.0, 2.52, 7.94, 8.0, 8.0, 3.96, 3.32, 4.08, 8.0, 8.0, 8.0, 7.54, 8.0, 3.66, 4.3, 3.16, 8.0, 2.54, 8.0, 8.0, 6.94, 8.0, 8.0, 3.7, 8.0, 0.26, 2.88, 8.0, 6.84, 3.78, 3.96, 8.0, 0.78, 8.0, 3.98, 3.16, 7.98, 8.0, 8.0, 5.16, 8.0, 8.0, 7.94, 7.3, 8.0, 8.0, 8.0, 2.2, 8.0]\n"
     ]
    }
   ],
   "source": [
    "x = []\n",
    "y = []\n",
    "for arr in data:\n",
    "    x.append(arr[0])\n",
    "    y.append(arr[1])\n",
    "print(x)\n",
    "print(y)"
   ]
  },
  {
   "cell_type": "code",
   "execution_count": 5,
   "id": "7073050d",
   "metadata": {},
   "outputs": [
    {
     "name": "stdout",
     "output_type": "stream",
     "text": [
      "4.573\n",
      "6.2067999999999985\n"
     ]
    }
   ],
   "source": [
    "n = len(x)\n",
    "x_avg = sum(x) /n\n",
    "y_avg = sum(y) /n\n",
    "print(x_avg)\n",
    "print(y_avg)"
   ]
  },
  {
   "cell_type": "code",
   "execution_count": 6,
   "id": "64508fa5",
   "metadata": {},
   "outputs": [
    {
     "data": {
      "image/png": "[encoded data removed]",
      "text/plain": [
       "<Figure size 432x288 with 1 Axes>"
      ]
     },
     "metadata": {
      "needs_background": "light"
     },
     "output_type": "display_data"
    }
   ],
   "source": [
    "plt.scatter(x = data[:, 0], y = data[:, 1], color = 'red')\n",
    "plt.axvline(x = x_avg, color = 'b', label = 'axvline - full height')\n",
    "plt.axhline(y = y_avg, color = 'green')\n",
    "plt.show()"
   ]
  },
  {
   "cell_type": "code",
   "execution_count": 7,
   "id": "7db5fe03",
   "metadata": {},
   "outputs": [
    {
     "name": "stdout",
     "output_type": "stream",
     "text": [
      "561.65156\n",
      "769.8541000000001\n"
     ]
    }
   ],
   "source": [
    "numerator = 0\n",
    "denominator = 0\n",
    "x_diffList = []\n",
    "y_diffList = []\n",
    "\n",
    "for i in range(n):\n",
    "    x_diff = x[i] - x_avg\n",
    "    x_diffList.append(x_diff)\n",
    "    \n",
    "    y_diff = y[i] - y_avg\n",
    "    y_diffList.append(y_diff)\n",
    "    \n",
    "    numerator += (x_diff * y_diff)\n",
    "    denominator += x_diff ** 2\n",
    "\n",
    "print(numerator)\n",
    "print(denominator)"
   ]
  },
  {
   "cell_type": "code",
   "execution_count": 13,
   "id": "a6a6c5cf",
   "metadata": {},
   "outputs": [],
   "source": [
    "b = numerator / denominator\n",
    "a = y_avg - b * x_avg"
   ]
  },
  {
   "cell_type": "code",
   "execution_count": 14,
   "id": "516c92eb",
   "metadata": {},
   "outputs": [
    {
     "data": {
      "text/plain": [
       "<matplotlib.collections.PathCollection at 0x7f09e9513790>"
      ]
     },
     "execution_count": 14,
     "metadata": {},
     "output_type": "execute_result"
    },
    {
     "data": {
      "image/png": "[encoded data removed]",
      "text/plain": [
       "<Figure size 432x288 with 1 Axes>"
      ]
     },
     "metadata": {
      "needs_background": "light"
     },
     "output_type": "display_data"
    }
   ],
   "source": [
    "# y = a + b* x\n",
    "plt.scatter(x = x_diffList, y = y_diffList)"
   ]
  },
  {
   "cell_type": "code",
   "execution_count": 15,
   "id": "f1de5a02",
   "metadata": {},
   "outputs": [
    {
     "name": "stdout",
     "output_type": "stream",
     "text": [
      "2.870541111621019\n",
      "0.7295558470104919\n"
     ]
    }
   ],
   "source": [
    "print(a)\n",
    "print(b)"
   ]
  },
  {
   "cell_type": "code",
   "execution_count": 16,
   "id": "df9d948f",
   "metadata": {},
   "outputs": [],
   "source": [
    "from sklearn import linear_model"
   ]
  },
  {
   "cell_type": "code",
   "execution_count": 20,
   "id": "334caf61",
   "metadata": {
    "scrolled": true
   },
   "outputs": [
    {
     "data": {
      "text/plain": [
       "[2.81,\n",
       " 7.14,\n",
       " 2.72,\n",
       " 3.87,\n",
       " 1.9,\n",
       " 7.82,\n",
       " 7.02,\n",
       " 5.5,\n",
       " 9.15,\n",
       " 4.87,\n",
       " 8.08,\n",
       " 5.58,\n",
       " 9.13,\n",
       " 0.14,\n",
       " 2.0,\n",
       " 5.47,\n",
       " 0.8,\n",
       " 4.37,\n",
       " 5.31,\n",
       " 0.0,\n",
       " 1.78,\n",
       " 3.45,\n",
       " 6.13,\n",
       " 3.53,\n",
       " 4.61,\n",
       " 1.76,\n",
       " 6.39,\n",
       " 0.02,\n",
       " 9.69,\n",
       " 5.33,\n",
       " 6.37,\n",
       " 5.55,\n",
       " 7.8,\n",
       " 2.06,\n",
       " 7.79,\n",
       " 2.24,\n",
       " 9.71,\n",
       " 1.11,\n",
       " 8.38,\n",
       " 2.33,\n",
       " 1.83,\n",
       " 5.94,\n",
       " 9.2,\n",
       " 1.14,\n",
       " 4.15,\n",
       " 8.43,\n",
       " 5.68,\n",
       " 8.21,\n",
       " 1.75,\n",
       " 2.16,\n",
       " 4.93,\n",
       " 5.75,\n",
       " 1.26,\n",
       " 3.97,\n",
       " 4.39,\n",
       " 7.53,\n",
       " 1.98,\n",
       " 1.66,\n",
       " 2.04,\n",
       " 11.72,\n",
       " 4.64,\n",
       " 4.71,\n",
       " 3.77,\n",
       " 9.33,\n",
       " 1.83,\n",
       " 2.15,\n",
       " 1.58,\n",
       " 9.29,\n",
       " 1.27,\n",
       " 8.49,\n",
       " 5.39,\n",
       " 3.47,\n",
       " 6.48,\n",
       " 4.11,\n",
       " 1.85,\n",
       " 8.79,\n",
       " 0.13,\n",
       " 1.44,\n",
       " 5.96,\n",
       " 3.42,\n",
       " 1.89,\n",
       " 1.98,\n",
       " 5.26,\n",
       " 0.39,\n",
       " 6.05,\n",
       " 1.99,\n",
       " 1.58,\n",
       " 3.99,\n",
       " 4.35,\n",
       " 6.71,\n",
       " 2.58,\n",
       " 7.37,\n",
       " 5.77,\n",
       " 3.97,\n",
       " 3.65,\n",
       " 4.38,\n",
       " 8.06,\n",
       " 8.05,\n",
       " 1.1,\n",
       " 6.65]"
      ]
     },
     "execution_count": 20,
     "metadata": {},
     "output_type": "execute_result"
    }
   ],
   "source": [
    "x"
   ]
  },
  {
   "cell_type": "code",
   "execution_count": 21,
   "id": "5e311fba",
   "metadata": {
    "collapsed": true
   },
   "outputs": [
    {
     "data": {
      "text/plain": [
       "[[2.81,\n",
       "  7.14,\n",
       "  2.72,\n",
       "  3.87,\n",
       "  1.9,\n",
       "  7.82,\n",
       "  7.02,\n",
       "  5.5,\n",
       "  9.15,\n",
       "  4.87,\n",
       "  8.08,\n",
       "  5.58,\n",
       "  9.13,\n",
       "  0.14,\n",
       "  2.0,\n",
       "  5.47,\n",
       "  0.8,\n",
       "  4.37,\n",
       "  5.31,\n",
       "  0.0,\n",
       "  1.78,\n",
       "  3.45,\n",
       "  6.13,\n",
       "  3.53,\n",
       "  4.61,\n",
       "  1.76,\n",
       "  6.39,\n",
       "  0.02,\n",
       "  9.69,\n",
       "  5.33,\n",
       "  6.37,\n",
       "  5.55,\n",
       "  7.8,\n",
       "  2.06,\n",
       "  7.79,\n",
       "  2.24,\n",
       "  9.71,\n",
       "  1.11,\n",
       "  8.38,\n",
       "  2.33,\n",
       "  1.83,\n",
       "  5.94,\n",
       "  9.2,\n",
       "  1.14,\n",
       "  4.15,\n",
       "  8.43,\n",
       "  5.68,\n",
       "  8.21,\n",
       "  1.75,\n",
       "  2.16,\n",
       "  4.93,\n",
       "  5.75,\n",
       "  1.26,\n",
       "  3.97,\n",
       "  4.39,\n",
       "  7.53,\n",
       "  1.98,\n",
       "  1.66,\n",
       "  2.04,\n",
       "  11.72,\n",
       "  4.64,\n",
       "  4.71,\n",
       "  3.77,\n",
       "  9.33,\n",
       "  1.83,\n",
       "  2.15,\n",
       "  1.58,\n",
       "  9.29,\n",
       "  1.27,\n",
       "  8.49,\n",
       "  5.39,\n",
       "  3.47,\n",
       "  6.48,\n",
       "  4.11,\n",
       "  1.85,\n",
       "  8.79,\n",
       "  0.13,\n",
       "  1.44,\n",
       "  5.96,\n",
       "  3.42,\n",
       "  1.89,\n",
       "  1.98,\n",
       "  5.26,\n",
       "  0.39,\n",
       "  6.05,\n",
       "  1.99,\n",
       "  1.58,\n",
       "  3.99,\n",
       "  4.35,\n",
       "  6.71,\n",
       "  2.58,\n",
       "  7.37,\n",
       "  5.77,\n",
       "  3.97,\n",
       "  3.65,\n",
       "  4.38,\n",
       "  8.06,\n",
       "  8.05,\n",
       "  1.1,\n",
       "  6.65]]"
      ]
     },
     "execution_count": 21,
     "metadata": {},
     "output_type": "execute_result"
    }
   ],
   "source": [
    "[x]"
   ]
  },
  {
   "cell_type": "code",
   "execution_count": 22,
   "id": "71ec7c68",
   "metadata": {},
   "outputs": [],
   "source": [
    "import pandas as pd"
   ]
  },
  {
   "cell_type": "code",
   "execution_count": 23,
   "id": "bcb957b2",
   "metadata": {},
   "outputs": [
    {
     "data": {
      "text/html": [
       "<div>\n",
       "<style scoped>\n",
       "    .dataframe tbody tr th:only-of-type {\n",
       "        vertical-align: middle;\n",
       "    }\n",
       "\n",
       "    .dataframe tbody tr th {\n",
       "        vertical-align: top;\n",
       "    }\n",
       "\n",
       "    .dataframe thead th {\n",
       "        text-align: right;\n",
       "    }\n",
       "</style>\n",
       "<table border=\"1\" class=\"dataframe\">\n",
       "  <thead>\n",
       "    <tr style=\"text-align: right;\">\n",
       "      <th></th>\n",
       "      <th>charge</th>\n",
       "      <th>last</th>\n",
       "    </tr>\n",
       "  </thead>\n",
       "  <tbody>\n",
       "    <tr>\n",
       "      <th>0</th>\n",
       "      <td>2.81</td>\n",
       "      <td>5.62</td>\n",
       "    </tr>\n",
       "    <tr>\n",
       "      <th>1</th>\n",
       "      <td>7.14</td>\n",
       "      <td>8.00</td>\n",
       "    </tr>\n",
       "    <tr>\n",
       "      <th>2</th>\n",
       "      <td>2.72</td>\n",
       "      <td>5.44</td>\n",
       "    </tr>\n",
       "    <tr>\n",
       "      <th>3</th>\n",
       "      <td>3.87</td>\n",
       "      <td>7.74</td>\n",
       "    </tr>\n",
       "    <tr>\n",
       "      <th>4</th>\n",
       "      <td>1.90</td>\n",
       "      <td>3.80</td>\n",
       "    </tr>\n",
       "    <tr>\n",
       "      <th>...</th>\n",
       "      <td>...</td>\n",
       "      <td>...</td>\n",
       "    </tr>\n",
       "    <tr>\n",
       "      <th>95</th>\n",
       "      <td>4.38</td>\n",
       "      <td>8.00</td>\n",
       "    </tr>\n",
       "    <tr>\n",
       "      <th>96</th>\n",
       "      <td>8.06</td>\n",
       "      <td>8.00</td>\n",
       "    </tr>\n",
       "    <tr>\n",
       "      <th>97</th>\n",
       "      <td>8.05</td>\n",
       "      <td>8.00</td>\n",
       "    </tr>\n",
       "    <tr>\n",
       "      <th>98</th>\n",
       "      <td>1.10</td>\n",
       "      <td>2.20</td>\n",
       "    </tr>\n",
       "    <tr>\n",
       "      <th>99</th>\n",
       "      <td>6.65</td>\n",
       "      <td>8.00</td>\n",
       "    </tr>\n",
       "  </tbody>\n",
       "</table>\n",
       "<p>100 rows × 2 columns</p>\n",
       "</div>"
      ],
      "text/plain": [
       "    charge  last\n",
       "0     2.81  5.62\n",
       "1     7.14  8.00\n",
       "2     2.72  5.44\n",
       "3     3.87  7.74\n",
       "4     1.90  3.80\n",
       "..     ...   ...\n",
       "95    4.38  8.00\n",
       "96    8.06  8.00\n",
       "97    8.05  8.00\n",
       "98    1.10  2.20\n",
       "99    6.65  8.00\n",
       "\n",
       "[100 rows x 2 columns]"
      ]
     },
     "execution_count": 23,
     "metadata": {},
     "output_type": "execute_result"
    }
   ],
   "source": [
    "df = pd.DataFrame(data, columns = [\"charge\", \"last\"])\n",
    "df"
   ]
  },
  {
   "cell_type": "code",
   "execution_count": 24,
   "id": "57305046",
   "metadata": {
    "scrolled": true
   },
   "outputs": [
    {
     "data": {
      "text/plain": [
       "0     2.81\n",
       "1     7.14\n",
       "2     2.72\n",
       "3     3.87\n",
       "4     1.90\n",
       "      ... \n",
       "95    4.38\n",
       "96    8.06\n",
       "97    8.05\n",
       "98    1.10\n",
       "99    6.65\n",
       "Name: charge, Length: 100, dtype: float64"
      ]
     },
     "execution_count": 24,
     "metadata": {},
     "output_type": "execute_result"
    }
   ],
   "source": [
    "df.charge"
   ]
  },
  {
   "cell_type": "code",
   "execution_count": 26,
   "id": "76289534",
   "metadata": {
    "scrolled": true
   },
   "outputs": [
    {
     "data": {
      "text/plain": [
       "array([[ 2.81],\n",
       "       [ 7.14],\n",
       "       [ 2.72],\n",
       "       [ 3.87],\n",
       "       [ 1.9 ],\n",
       "       [ 7.82],\n",
       "       [ 7.02],\n",
       "       [ 5.5 ],\n",
       "       [ 9.15],\n",
       "       [ 4.87],\n",
       "       [ 8.08],\n",
       "       [ 5.58],\n",
       "       [ 9.13],\n",
       "       [ 0.14],\n",
       "       [ 2.  ],\n",
       "       [ 5.47],\n",
       "       [ 0.8 ],\n",
       "       [ 4.37],\n",
       "       [ 5.31],\n",
       "       [ 0.  ],\n",
       "       [ 1.78],\n",
       "       [ 3.45],\n",
       "       [ 6.13],\n",
       "       [ 3.53],\n",
       "       [ 4.61],\n",
       "       [ 1.76],\n",
       "       [ 6.39],\n",
       "       [ 0.02],\n",
       "       [ 9.69],\n",
       "       [ 5.33],\n",
       "       [ 6.37],\n",
       "       [ 5.55],\n",
       "       [ 7.8 ],\n",
       "       [ 2.06],\n",
       "       [ 7.79],\n",
       "       [ 2.24],\n",
       "       [ 9.71],\n",
       "       [ 1.11],\n",
       "       [ 8.38],\n",
       "       [ 2.33],\n",
       "       [ 1.83],\n",
       "       [ 5.94],\n",
       "       [ 9.2 ],\n",
       "       [ 1.14],\n",
       "       [ 4.15],\n",
       "       [ 8.43],\n",
       "       [ 5.68],\n",
       "       [ 8.21],\n",
       "       [ 1.75],\n",
       "       [ 2.16],\n",
       "       [ 4.93],\n",
       "       [ 5.75],\n",
       "       [ 1.26],\n",
       "       [ 3.97],\n",
       "       [ 4.39],\n",
       "       [ 7.53],\n",
       "       [ 1.98],\n",
       "       [ 1.66],\n",
       "       [ 2.04],\n",
       "       [11.72],\n",
       "       [ 4.64],\n",
       "       [ 4.71],\n",
       "       [ 3.77],\n",
       "       [ 9.33],\n",
       "       [ 1.83],\n",
       "       [ 2.15],\n",
       "       [ 1.58],\n",
       "       [ 9.29],\n",
       "       [ 1.27],\n",
       "       [ 8.49],\n",
       "       [ 5.39],\n",
       "       [ 3.47],\n",
       "       [ 6.48],\n",
       "       [ 4.11],\n",
       "       [ 1.85],\n",
       "       [ 8.79],\n",
       "       [ 0.13],\n",
       "       [ 1.44],\n",
       "       [ 5.96],\n",
       "       [ 3.42],\n",
       "       [ 1.89],\n",
       "       [ 1.98],\n",
       "       [ 5.26],\n",
       "       [ 0.39],\n",
       "       [ 6.05],\n",
       "       [ 1.99],\n",
       "       [ 1.58],\n",
       "       [ 3.99],\n",
       "       [ 4.35],\n",
       "       [ 6.71],\n",
       "       [ 2.58],\n",
       "       [ 7.37],\n",
       "       [ 5.77],\n",
       "       [ 3.97],\n",
       "       [ 3.65],\n",
       "       [ 4.38],\n",
       "       [ 8.06],\n",
       "       [ 8.05],\n",
       "       [ 1.1 ],\n",
       "       [ 6.65]])"
      ]
     },
     "execution_count": 26,
     "metadata": {},
     "output_type": "execute_result"
    }
   ],
   "source": [
    "df.charge.values.reshape(-1, 1)"
   ]
  },
  {
   "cell_type": "code",
   "execution_count": 28,
   "id": "25a32e6d",
   "metadata": {},
   "outputs": [],
   "source": [
    "model = linear_model.LinearRegression()"
   ]
  },
  {
   "cell_type": "code",
   "execution_count": 30,
   "id": "7a4a0b7b",
   "metadata": {},
   "outputs": [
    {
     "data": {
      "text/plain": [
       "LinearRegression()"
      ]
     },
     "execution_count": 30,
     "metadata": {},
     "output_type": "execute_result"
    }
   ],
   "source": [
    "model.fit(df.charge.values.reshape(-1, 1), y)"
   ]
  },
  {
   "cell_type": "code",
   "execution_count": 31,
   "id": "68d66baf",
   "metadata": {},
   "outputs": [
    {
     "data": {
      "text/plain": [
       "array([0.72955585])"
      ]
     },
     "execution_count": 31,
     "metadata": {},
     "output_type": "execute_result"
    }
   ],
   "source": [
    "model.coef_"
   ]
  },
  {
   "cell_type": "code",
   "execution_count": 32,
   "id": "db496c01",
   "metadata": {},
   "outputs": [
    {
     "data": {
      "text/plain": [
       "2.870541111621019"
      ]
     },
     "execution_count": 32,
     "metadata": {},
     "output_type": "execute_result"
    }
   ],
   "source": [
    "model.intercept_"
   ]
  },
  {
   "cell_type": "code",
   "execution_count": 33,
   "id": "10774ca9",
   "metadata": {},
   "outputs": [
    {
     "data": {
      "text/plain": [
       "2.870541111621019"
      ]
     },
     "execution_count": 33,
     "metadata": {},
     "output_type": "execute_result"
    }
   ],
   "source": [
    "a"
   ]
  },
  {
   "cell_type": "code",
   "execution_count": 34,
   "id": "eee529f5",
   "metadata": {},
   "outputs": [
    {
     "data": {
      "text/plain": [
       "0.7295558470104919"
      ]
     },
     "execution_count": 34,
     "metadata": {},
     "output_type": "execute_result"
    }
   ],
   "source": [
    "b"
   ]
  },
  {
   "cell_type": "code",
   "execution_count": 35,
   "id": "5e6e73de",
   "metadata": {},
   "outputs": [],
   "source": [
    "import seaborn as sns"
   ]
  },
  {
   "cell_type": "code",
   "execution_count": 38,
   "id": "bad9cba8",
   "metadata": {},
   "outputs": [
    {
     "data": {
      "text/plain": [
       "<AxesSubplot:xlabel='charge', ylabel='last'>"
      ]
     },
     "execution_count": 38,
     "metadata": {},
     "output_type": "execute_result"
    },
    {
     "data": {
      "image/png": "[encoded data removed]",
      "text/plain": [
       "<Figure size 432x288 with 1 Axes>"
      ]
     },
     "metadata": {
      "needs_background": "light"
     },
     "output_type": "display_data"
    }
   ],
   "source": [
    "sns.regplot(x = 'charge', y = 'last', data = df)"
   ]
  },
  {
   "cell_type": "code",
   "execution_count": null,
   "id": "f6a18a85",
   "metadata": {},
   "outputs": [],
   "source": []
  }
 ],
 "metadata": {
  "kernelspec": {
   "display_name": "Python 3",
   "language": "python",
   "name": "python3"
  },
  "language_info": {
   "codemirror_mode": {
    "name": "ipython",
    "version": 3
   },
   "file_extension": ".py",
   "mimetype": "text/x-python",
   "name": "python",
   "nbconvert_exporter": "python",
   "pygments_lexer": "ipython3",
   "version": "3.7.10"
  }
 },
 "nbformat": 4,
 "nbformat_minor": 5
}
