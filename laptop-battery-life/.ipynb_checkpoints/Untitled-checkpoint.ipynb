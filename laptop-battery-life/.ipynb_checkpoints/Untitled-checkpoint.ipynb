{
 "cells": [
  {
   "cell_type": "code",
   "execution_count": 1,
   "id": "1cb958cb",
   "metadata": {},
   "outputs": [],
   "source": [
    "from matplotlib import pyplot as plt\n",
    "import pylab"
   ]
  },
  {
   "cell_type": "code",
   "execution_count": 2,
   "id": "52785b7c",
   "metadata": {
    "scrolled": true
   },
   "outputs": [
    {
     "data": {
      "text/plain": [
       "array([[ 2.81,  5.62],\n",
       "       [ 7.14,  8.  ],\n",
       "       [ 2.72,  5.44],\n",
       "       [ 3.87,  7.74],\n",
       "       [ 1.9 ,  3.8 ],\n",
       "       [ 7.82,  8.  ],\n",
       "       [ 7.02,  8.  ],\n",
       "       [ 5.5 ,  8.  ],\n",
       "       [ 9.15,  8.  ],\n",
       "       [ 4.87,  8.  ],\n",
       "       [ 8.08,  8.  ],\n",
       "       [ 5.58,  8.  ],\n",
       "       [ 9.13,  8.  ],\n",
       "       [ 0.14,  0.28],\n",
       "       [ 2.  ,  4.  ],\n",
       "       [ 5.47,  8.  ],\n",
       "       [ 0.8 ,  1.6 ],\n",
       "       [ 4.37,  8.  ],\n",
       "       [ 5.31,  8.  ],\n",
       "       [ 0.  ,  0.  ],\n",
       "       [ 1.78,  3.56],\n",
       "       [ 3.45,  6.9 ],\n",
       "       [ 6.13,  8.  ],\n",
       "       [ 3.53,  7.06],\n",
       "       [ 4.61,  8.  ],\n",
       "       [ 1.76,  3.52],\n",
       "       [ 6.39,  8.  ],\n",
       "       [ 0.02,  0.04],\n",
       "       [ 9.69,  8.  ],\n",
       "       [ 5.33,  8.  ],\n",
       "       [ 6.37,  8.  ],\n",
       "       [ 5.55,  8.  ],\n",
       "       [ 7.8 ,  8.  ],\n",
       "       [ 2.06,  4.12],\n",
       "       [ 7.79,  8.  ],\n",
       "       [ 2.24,  4.48],\n",
       "       [ 9.71,  8.  ],\n",
       "       [ 1.11,  2.22],\n",
       "       [ 8.38,  8.  ],\n",
       "       [ 2.33,  4.66],\n",
       "       [ 1.83,  3.66],\n",
       "       [ 5.94,  8.  ],\n",
       "       [ 9.2 ,  8.  ],\n",
       "       [ 1.14,  2.28],\n",
       "       [ 4.15,  8.  ],\n",
       "       [ 8.43,  8.  ],\n",
       "       [ 5.68,  8.  ],\n",
       "       [ 8.21,  8.  ],\n",
       "       [ 1.75,  3.5 ],\n",
       "       [ 2.16,  4.32],\n",
       "       [ 4.93,  8.  ],\n",
       "       [ 5.75,  8.  ],\n",
       "       [ 1.26,  2.52],\n",
       "       [ 3.97,  7.94],\n",
       "       [ 4.39,  8.  ],\n",
       "       [ 7.53,  8.  ],\n",
       "       [ 1.98,  3.96],\n",
       "       [ 1.66,  3.32],\n",
       "       [ 2.04,  4.08],\n",
       "       [11.72,  8.  ],\n",
       "       [ 4.64,  8.  ],\n",
       "       [ 4.71,  8.  ],\n",
       "       [ 3.77,  7.54],\n",
       "       [ 9.33,  8.  ],\n",
       "       [ 1.83,  3.66],\n",
       "       [ 2.15,  4.3 ],\n",
       "       [ 1.58,  3.16],\n",
       "       [ 9.29,  8.  ],\n",
       "       [ 1.27,  2.54],\n",
       "       [ 8.49,  8.  ],\n",
       "       [ 5.39,  8.  ],\n",
       "       [ 3.47,  6.94],\n",
       "       [ 6.48,  8.  ],\n",
       "       [ 4.11,  8.  ],\n",
       "       [ 1.85,  3.7 ],\n",
       "       [ 8.79,  8.  ],\n",
       "       [ 0.13,  0.26],\n",
       "       [ 1.44,  2.88],\n",
       "       [ 5.96,  8.  ],\n",
       "       [ 3.42,  6.84],\n",
       "       [ 1.89,  3.78],\n",
       "       [ 1.98,  3.96],\n",
       "       [ 5.26,  8.  ],\n",
       "       [ 0.39,  0.78],\n",
       "       [ 6.05,  8.  ],\n",
       "       [ 1.99,  3.98],\n",
       "       [ 1.58,  3.16],\n",
       "       [ 3.99,  7.98],\n",
       "       [ 4.35,  8.  ],\n",
       "       [ 6.71,  8.  ],\n",
       "       [ 2.58,  5.16],\n",
       "       [ 7.37,  8.  ],\n",
       "       [ 5.77,  8.  ],\n",
       "       [ 3.97,  7.94],\n",
       "       [ 3.65,  7.3 ],\n",
       "       [ 4.38,  8.  ],\n",
       "       [ 8.06,  8.  ],\n",
       "       [ 8.05,  8.  ],\n",
       "       [ 1.1 ,  2.2 ],\n",
       "       [ 6.65,  8.  ]])"
      ]
     },
     "execution_count": 2,
     "metadata": {},
     "output_type": "execute_result"
    }
   ],
   "source": [
    "data = pylab.loadtxt(\"trainingdata.txt\", delimiter =\",\")\n",
    "data"
   ]
  },
  {
   "cell_type": "code",
   "execution_count": 6,
   "id": "183d7899",
   "metadata": {},
   "outputs": [
    {
     "data": {
      "image/png": "[encoded data removed]",
      "text/plain": [
       "<Figure size 432x288 with 1 Axes>"
      ]
     },
     "metadata": {
      "needs_background": "light"
     },
     "output_type": "display_data"
    }
   ],
   "source": [
    "plt.scatter(x = data[:, 0], y = data[:, 1], color = 'red')\n",
    "plt.show()"
   ]
  },
  {
   "cell_type": "code",
   "execution_count": 7,
   "id": "e2531278",
   "metadata": {
    "scrolled": true
   },
   "outputs": [
    {
     "name": "stdout",
     "output_type": "stream",
     "text": [
      "[2.81, 7.14, 2.72, 3.87, 1.9, 7.82, 7.02, 5.5, 9.15, 4.87, 8.08, 5.58, 9.13, 0.14, 2.0, 5.47, 0.8, 4.37, 5.31, 0.0, 1.78, 3.45, 6.13, 3.53, 4.61, 1.76, 6.39, 0.02, 9.69, 5.33, 6.37, 5.55, 7.8, 2.06, 7.79, 2.24, 9.71, 1.11, 8.38, 2.33, 1.83, 5.94, 9.2, 1.14, 4.15, 8.43, 5.68, 8.21, 1.75, 2.16, 4.93, 5.75, 1.26, 3.97, 4.39, 7.53, 1.98, 1.66, 2.04, 11.72, 4.64, 4.71, 3.77, 9.33, 1.83, 2.15, 1.58, 9.29, 1.27, 8.49, 5.39, 3.47, 6.48, 4.11, 1.85, 8.79, 0.13, 1.44, 5.96, 3.42, 1.89, 1.98, 5.26, 0.39, 6.05, 1.99, 1.58, 3.99, 4.35, 6.71, 2.58, 7.37, 5.77, 3.97, 3.65, 4.38, 8.06, 8.05, 1.1, 6.65]\n",
      "[5.62, 8.0, 5.44, 7.74, 3.8, 8.0, 8.0, 8.0, 8.0, 8.0, 8.0, 8.0, 8.0, 0.28, 4.0, 8.0, 1.6, 8.0, 8.0, 0.0, 3.56, 6.9, 8.0, 7.06, 8.0, 3.52, 8.0, 0.04, 8.0, 8.0, 8.0, 8.0, 8.0, 4.12, 8.0, 4.48, 8.0, 2.22, 8.0, 4.66, 3.66, 8.0, 8.0, 2.28, 8.0, 8.0, 8.0, 8.0, 3.5, 4.32, 8.0, 8.0, 2.52, 7.94, 8.0, 8.0, 3.96, 3.32, 4.08, 8.0, 8.0, 8.0, 7.54, 8.0, 3.66, 4.3, 3.16, 8.0, 2.54, 8.0, 8.0, 6.94, 8.0, 8.0, 3.7, 8.0, 0.26, 2.88, 8.0, 6.84, 3.78, 3.96, 8.0, 0.78, 8.0, 3.98, 3.16, 7.98, 8.0, 8.0, 5.16, 8.0, 8.0, 7.94, 7.3, 8.0, 8.0, 8.0, 2.2, 8.0]\n"
     ]
    }
   ],
   "source": [
    "x = []\n",
    "y = []\n",
    "for arr in data:\n",
    "    x.append(arr[0])\n",
    "    y.append(arr[1])\n",
    "print(x)\n",
    "print(y)"
   ]
  },
  {
   "cell_type": "code",
   "execution_count": 9,
   "id": "853be1fd",
   "metadata": {},
   "outputs": [
    {
     "name": "stdout",
     "output_type": "stream",
     "text": [
      "4.573\n",
      "6.2067999999999985\n"
     ]
    }
   ],
   "source": [
    "n = len(x)\n",
    "x_avg = sum(x) /n\n",
    "y_avg = sum(y) /n\n",
    "print(x_avg)\n",
    "print(y_avg)"
   ]
  },
  {
   "cell_type": "code",
   "execution_count": 12,
   "id": "9c71a3cd",
   "metadata": {},
   "outputs": [
    {
     "ename": "ValueError",
     "evalue": "x and y must have same first dimension, but have shapes (100,) and (1,)",
     "output_type": "error",
     "traceback": [
      "\u001b[0;31m---------------------------------------------------------------------------\u001b[0m",
      "\u001b[0;31mValueError\u001b[0m                                Traceback (most recent call last)",
      "\u001b[0;32m<ipython-input-12-3614831c01df>\u001b[0m in \u001b[0;36m<module>\u001b[0;34m\u001b[0m\n\u001b[1;32m      1\u001b[0m \u001b[0mplt\u001b[0m\u001b[0;34m.\u001b[0m\u001b[0mscatter\u001b[0m\u001b[0;34m(\u001b[0m\u001b[0mx\u001b[0m \u001b[0;34m=\u001b[0m \u001b[0mdata\u001b[0m\u001b[0;34m[\u001b[0m\u001b[0;34m:\u001b[0m\u001b[0;34m,\u001b[0m \u001b[0;36m0\u001b[0m\u001b[0;34m]\u001b[0m\u001b[0;34m,\u001b[0m \u001b[0my\u001b[0m \u001b[0;34m=\u001b[0m \u001b[0mdata\u001b[0m\u001b[0;34m[\u001b[0m\u001b[0;34m:\u001b[0m\u001b[0;34m,\u001b[0m \u001b[0;36m1\u001b[0m\u001b[0;34m]\u001b[0m\u001b[0;34m,\u001b[0m \u001b[0mcolor\u001b[0m \u001b[0;34m=\u001b[0m \u001b[0;34m'red'\u001b[0m\u001b[0;34m)\u001b[0m\u001b[0;34m\u001b[0m\u001b[0;34m\u001b[0m\u001b[0m\n\u001b[0;32m----> 2\u001b[0;31m \u001b[0mplt\u001b[0m\u001b[0;34m.\u001b[0m\u001b[0mplot\u001b[0m\u001b[0;34m(\u001b[0m\u001b[0mdata\u001b[0m\u001b[0;34m[\u001b[0m\u001b[0;34m:\u001b[0m\u001b[0;34m,\u001b[0m \u001b[0;36m0\u001b[0m\u001b[0;34m]\u001b[0m\u001b[0;34m,\u001b[0m \u001b[0my_avg\u001b[0m\u001b[0;34m,\u001b[0m \u001b[0mcolor\u001b[0m \u001b[0;34m=\u001b[0m \u001b[0;34m'blue'\u001b[0m\u001b[0;34m)\u001b[0m\u001b[0;34m\u001b[0m\u001b[0;34m\u001b[0m\u001b[0m\n\u001b[0m\u001b[1;32m      3\u001b[0m \u001b[0mplt\u001b[0m\u001b[0;34m.\u001b[0m\u001b[0mplot\u001b[0m\u001b[0;34m(\u001b[0m\u001b[0mx_avg\u001b[0m\u001b[0;34m,\u001b[0m \u001b[0mdata\u001b[0m\u001b[0;34m[\u001b[0m\u001b[0;36m0\u001b[0m\u001b[0;34m:\u001b[0m\u001b[0;34m,\u001b[0m \u001b[0;36m1\u001b[0m\u001b[0;34m]\u001b[0m\u001b[0;34m,\u001b[0m \u001b[0mcolor\u001b[0m \u001b[0;34m=\u001b[0m \u001b[0;34m'green'\u001b[0m\u001b[0;34m)\u001b[0m\u001b[0;34m\u001b[0m\u001b[0;34m\u001b[0m\u001b[0m\n\u001b[1;32m      4\u001b[0m \u001b[0mplt\u001b[0m\u001b[0;34m.\u001b[0m\u001b[0mshow\u001b[0m\u001b[0;34m(\u001b[0m\u001b[0;34m)\u001b[0m\u001b[0;34m\u001b[0m\u001b[0;34m\u001b[0m\u001b[0m\n",
      "\u001b[0;32m~/anaconda3/lib/python3.7/site-packages/matplotlib/pyplot.py\u001b[0m in \u001b[0;36mplot\u001b[0;34m(scalex, scaley, data, *args, **kwargs)\u001b[0m\n\u001b[1;32m   2840\u001b[0m     return gca().plot(\n\u001b[1;32m   2841\u001b[0m         \u001b[0;34m*\u001b[0m\u001b[0margs\u001b[0m\u001b[0;34m,\u001b[0m \u001b[0mscalex\u001b[0m\u001b[0;34m=\u001b[0m\u001b[0mscalex\u001b[0m\u001b[0;34m,\u001b[0m \u001b[0mscaley\u001b[0m\u001b[0;34m=\u001b[0m\u001b[0mscaley\u001b[0m\u001b[0;34m,\u001b[0m\u001b[0;34m\u001b[0m\u001b[0;34m\u001b[0m\u001b[0m\n\u001b[0;32m-> 2842\u001b[0;31m         **({\"data\": data} if data is not None else {}), **kwargs)\n\u001b[0m\u001b[1;32m   2843\u001b[0m \u001b[0;34m\u001b[0m\u001b[0m\n\u001b[1;32m   2844\u001b[0m \u001b[0;34m\u001b[0m\u001b[0m\n",
      "\u001b[0;32m~/anaconda3/lib/python3.7/site-packages/matplotlib/axes/_axes.py\u001b[0m in \u001b[0;36mplot\u001b[0;34m(self, scalex, scaley, data, *args, **kwargs)\u001b[0m\n\u001b[1;32m   1741\u001b[0m         \"\"\"\n\u001b[1;32m   1742\u001b[0m         \u001b[0mkwargs\u001b[0m \u001b[0;34m=\u001b[0m \u001b[0mcbook\u001b[0m\u001b[0;34m.\u001b[0m\u001b[0mnormalize_kwargs\u001b[0m\u001b[0;34m(\u001b[0m\u001b[0mkwargs\u001b[0m\u001b[0;34m,\u001b[0m \u001b[0mmlines\u001b[0m\u001b[0;34m.\u001b[0m\u001b[0mLine2D\u001b[0m\u001b[0;34m)\u001b[0m\u001b[0;34m\u001b[0m\u001b[0;34m\u001b[0m\u001b[0m\n\u001b[0;32m-> 1743\u001b[0;31m         \u001b[0mlines\u001b[0m \u001b[0;34m=\u001b[0m \u001b[0;34m[\u001b[0m\u001b[0;34m*\u001b[0m\u001b[0mself\u001b[0m\u001b[0;34m.\u001b[0m\u001b[0m_get_lines\u001b[0m\u001b[0;34m(\u001b[0m\u001b[0;34m*\u001b[0m\u001b[0margs\u001b[0m\u001b[0;34m,\u001b[0m \u001b[0mdata\u001b[0m\u001b[0;34m=\u001b[0m\u001b[0mdata\u001b[0m\u001b[0;34m,\u001b[0m \u001b[0;34m**\u001b[0m\u001b[0mkwargs\u001b[0m\u001b[0;34m)\u001b[0m\u001b[0;34m]\u001b[0m\u001b[0;34m\u001b[0m\u001b[0;34m\u001b[0m\u001b[0m\n\u001b[0m\u001b[1;32m   1744\u001b[0m         \u001b[0;32mfor\u001b[0m \u001b[0mline\u001b[0m \u001b[0;32min\u001b[0m \u001b[0mlines\u001b[0m\u001b[0;34m:\u001b[0m\u001b[0;34m\u001b[0m\u001b[0;34m\u001b[0m\u001b[0m\n\u001b[1;32m   1745\u001b[0m             \u001b[0mself\u001b[0m\u001b[0;34m.\u001b[0m\u001b[0madd_line\u001b[0m\u001b[0;34m(\u001b[0m\u001b[0mline\u001b[0m\u001b[0;34m)\u001b[0m\u001b[0;34m\u001b[0m\u001b[0;34m\u001b[0m\u001b[0m\n",
      "\u001b[0;32m~/anaconda3/lib/python3.7/site-packages/matplotlib/axes/_base.py\u001b[0m in \u001b[0;36m__call__\u001b[0;34m(self, data, *args, **kwargs)\u001b[0m\n\u001b[1;32m    271\u001b[0m                 \u001b[0mthis\u001b[0m \u001b[0;34m+=\u001b[0m \u001b[0margs\u001b[0m\u001b[0;34m[\u001b[0m\u001b[0;36m0\u001b[0m\u001b[0;34m]\u001b[0m\u001b[0;34m,\u001b[0m\u001b[0;34m\u001b[0m\u001b[0;34m\u001b[0m\u001b[0m\n\u001b[1;32m    272\u001b[0m                 \u001b[0margs\u001b[0m \u001b[0;34m=\u001b[0m \u001b[0margs\u001b[0m\u001b[0;34m[\u001b[0m\u001b[0;36m1\u001b[0m\u001b[0;34m:\u001b[0m\u001b[0;34m]\u001b[0m\u001b[0;34m\u001b[0m\u001b[0;34m\u001b[0m\u001b[0m\n\u001b[0;32m--> 273\u001b[0;31m             \u001b[0;32myield\u001b[0m \u001b[0;32mfrom\u001b[0m \u001b[0mself\u001b[0m\u001b[0;34m.\u001b[0m\u001b[0m_plot_args\u001b[0m\u001b[0;34m(\u001b[0m\u001b[0mthis\u001b[0m\u001b[0;34m,\u001b[0m \u001b[0mkwargs\u001b[0m\u001b[0;34m)\u001b[0m\u001b[0;34m\u001b[0m\u001b[0;34m\u001b[0m\u001b[0m\n\u001b[0m\u001b[1;32m    274\u001b[0m \u001b[0;34m\u001b[0m\u001b[0m\n\u001b[1;32m    275\u001b[0m     \u001b[0;32mdef\u001b[0m \u001b[0mget_next_color\u001b[0m\u001b[0;34m(\u001b[0m\u001b[0mself\u001b[0m\u001b[0;34m)\u001b[0m\u001b[0;34m:\u001b[0m\u001b[0;34m\u001b[0m\u001b[0;34m\u001b[0m\u001b[0m\n",
      "\u001b[0;32m~/anaconda3/lib/python3.7/site-packages/matplotlib/axes/_base.py\u001b[0m in \u001b[0;36m_plot_args\u001b[0;34m(self, tup, kwargs)\u001b[0m\n\u001b[1;32m    397\u001b[0m \u001b[0;34m\u001b[0m\u001b[0m\n\u001b[1;32m    398\u001b[0m         \u001b[0;32mif\u001b[0m \u001b[0mx\u001b[0m\u001b[0;34m.\u001b[0m\u001b[0mshape\u001b[0m\u001b[0;34m[\u001b[0m\u001b[0;36m0\u001b[0m\u001b[0;34m]\u001b[0m \u001b[0;34m!=\u001b[0m \u001b[0my\u001b[0m\u001b[0;34m.\u001b[0m\u001b[0mshape\u001b[0m\u001b[0;34m[\u001b[0m\u001b[0;36m0\u001b[0m\u001b[0;34m]\u001b[0m\u001b[0;34m:\u001b[0m\u001b[0;34m\u001b[0m\u001b[0;34m\u001b[0m\u001b[0m\n\u001b[0;32m--> 399\u001b[0;31m             raise ValueError(f\"x and y must have same first dimension, but \"\n\u001b[0m\u001b[1;32m    400\u001b[0m                              f\"have shapes {x.shape} and {y.shape}\")\n\u001b[1;32m    401\u001b[0m         \u001b[0;32mif\u001b[0m \u001b[0mx\u001b[0m\u001b[0;34m.\u001b[0m\u001b[0mndim\u001b[0m \u001b[0;34m>\u001b[0m \u001b[0;36m2\u001b[0m \u001b[0;32mor\u001b[0m \u001b[0my\u001b[0m\u001b[0;34m.\u001b[0m\u001b[0mndim\u001b[0m \u001b[0;34m>\u001b[0m \u001b[0;36m2\u001b[0m\u001b[0;34m:\u001b[0m\u001b[0;34m\u001b[0m\u001b[0;34m\u001b[0m\u001b[0m\n",
      "\u001b[0;31mValueError\u001b[0m: x and y must have same first dimension, but have shapes (100,) and (1,)"
     ]
    },
    {
     "data": {
      "image/png": "[encoded data removed]",
      "text/plain": [
       "<Figure size 432x288 with 1 Axes>"
      ]
     },
     "metadata": {
      "needs_background": "light"
     },
     "output_type": "display_data"
    }
   ],
   "source": [
    "plt.scatter(x = data[:, 0], y = data[:, 1], color = 'red')\n",
    "plt.plot((data[:, 0], ), y_avg, color = 'blue')\n",
    "plt.plot((x_avg, data[0:, 1], ), color = 'green')\n",
    "plt.show()"
   ]
  },
  {
   "cell_type": "code",
   "execution_count": null,
   "id": "c2373e16",
   "metadata": {},
   "outputs": [],
   "source": []
  }
 ],
 "metadata": {
  "kernelspec": {
   "display_name": "Python 3",
   "language": "python",
   "name": "python3"
  },
  "language_info": {
   "codemirror_mode": {
    "name": "ipython",
    "version": 3
   },
   "file_extension": ".py",
   "mimetype": "text/x-python",
   "name": "python",
   "nbconvert_exporter": "python",
   "pygments_lexer": "ipython3",
   "version": "3.7.10"
  }
 },
 "nbformat": 4,
 "nbformat_minor": 5
}
